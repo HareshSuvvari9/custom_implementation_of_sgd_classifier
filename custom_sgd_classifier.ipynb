{
 "cells": [
  {
   "cell_type": "markdown",
   "metadata": {
    "id": "7eiDWcM_MC3H"
   },
   "source": [
    "# <font>Implementation of  SGD Classifier with Logloss and L2 regularization Using SGD without using sklearn</font>"
   ]
  },
  {
   "cell_type": "code",
   "execution_count": 1,
   "metadata": {
    "id": "42Et8BKIxnsp"
   },
   "outputs": [],
   "source": [
    "#Importing necessary packages.\n",
    "import numpy as np\n",
    "import pandas as pd\n",
    "from sklearn.datasets import make_classification\n",
    "from sklearn.model_selection import train_test_split\n",
    "from sklearn.preprocessing import StandardScaler\n",
    "from sklearn import linear_model"
   ]
  },
  {
   "cell_type": "code",
   "execution_count": 2,
   "metadata": {
    "id": "BsMp0oWzx6dv"
   },
   "outputs": [],
   "source": [
    "X, y = make_classification(n_samples=50000, n_features=15, n_informative=10, n_redundant=5,\n",
    "                           n_classes=2, weights=[0.7], class_sep=0.7, random_state=15)\n",
    "# make_classification is used to create custom dataset \n",
    "# Please check this link (https://scikit-learn.org/stable/modules/generated/sklearn.datasets.make_classification.html) for more details"
   ]
  },
  {
   "cell_type": "code",
   "execution_count": 3,
   "metadata": {
    "colab": {
     "base_uri": "https://localhost:8080/"
    },
    "id": "L8W2fg1cyGdX",
    "outputId": "ff5267f3-7435-44fb-c383-8d12ed36fa2f"
   },
   "outputs": [
    {
     "data": {
      "text/plain": [
       "((50000, 15), (50000,))"
      ]
     },
     "execution_count": 3,
     "metadata": {},
     "output_type": "execute_result"
    }
   ],
   "source": [
    "X.shape, y.shape"
   ]
  },
  {
   "cell_type": "code",
   "execution_count": 183,
   "metadata": {
    "id": "0Kh4dBfVyJMP"
   },
   "outputs": [],
   "source": [
    "#Splitting data into train and test \n",
    "x_train, x_test, y_train, y_test = train_test_split(X, y, test_size=0.25, random_state=15)"
   ]
  },
  {
   "cell_type": "code",
   "execution_count": 184,
   "metadata": {
    "id": "gONY1YiDq7jD"
   },
   "outputs": [],
   "source": [
    "# Standardizing the data.\n",
    "scaler = StandardScaler()\n",
    "x_train = scaler.fit_transform(x_train)\n",
    "x_test = scaler.transform(x_test)"
   ]
  },
  {
   "cell_type": "code",
   "execution_count": 185,
   "metadata": {
    "colab": {
     "base_uri": "https://localhost:8080/"
    },
    "id": "0DR_YMBsyOci",
    "outputId": "89ee2e5a-f815-4dab-f075-cfc6012417fb"
   },
   "outputs": [
    {
     "data": {
      "text/plain": [
       "((37500, 15), (37500,), (12500, 15), (12500,))"
      ]
     },
     "execution_count": 185,
     "metadata": {
      "tags": []
     },
     "output_type": "execute_result"
    }
   ],
   "source": [
    "x_train.shape, y_train.shape, x_test.shape, y_test.shape"
   ]
  },
  {
   "cell_type": "code",
   "execution_count": 186,
   "metadata": {
    "colab": {
     "base_uri": "https://localhost:8080/"
    },
    "id": "3HpvTwDHyQQy",
    "outputId": "611e429c-f4f8-4978-9e16-54b2d6e141a2"
   },
   "outputs": [
    {
     "data": {
      "text/plain": [
       "SGDClassifier(alpha=0.0001, average=False, class_weight=None,\n",
       "              early_stopping=False, epsilon=0.1, eta0=0.0001,\n",
       "              fit_intercept=True, l1_ratio=0.15, learning_rate='constant',\n",
       "              loss='log', max_iter=1000, n_iter_no_change=5, n_jobs=None,\n",
       "              penalty='l2', power_t=0.5, random_state=15, shuffle=True,\n",
       "              tol=0.001, validation_fraction=0.1, verbose=2, warm_start=False)"
      ]
     },
     "execution_count": 186,
     "metadata": {
      "tags": []
     },
     "output_type": "execute_result"
    }
   ],
   "source": [
    "#SGD classifier.\n",
    "#sklearn's sgdclassifier for reference.\n",
    "# alpha : float\n",
    "# Constant that multiplies the regularization term. \n",
    "\n",
    "# eta0 : double\n",
    "# The initial learning rate for the ‘constant’, ‘invscaling’ or ‘adaptive’ schedules.\n",
    "\n",
    "clf = linear_model.SGDClassifier(eta0=0.0001, alpha=0.0001, loss='log', random_state=15, penalty='l2', tol=1e-3, verbose=2, learning_rate='constant')\n",
    "clf\n",
    "# Please check this documentation (https://scikit-learn.org/stable/modules/generated/sklearn.linear_model.SGDClassifier.html) "
   ]
  },
  {
   "cell_type": "code",
   "execution_count": 187,
   "metadata": {
    "colab": {
     "base_uri": "https://localhost:8080/"
    },
    "id": "YYaVyQ2lyXcr",
    "outputId": "746d881f-2f3e-440e-94de-8b454996f37e"
   },
   "outputs": [
    {
     "name": "stdout",
     "output_type": "stream",
     "text": [
      "-- Epoch 1\n",
      "Norm: 0.70, NNZs: 15, Bias: -0.501317, T: 37500, Avg. loss: 0.552526\n",
      "Total training time: 0.01 seconds.\n",
      "-- Epoch 2\n",
      "Norm: 1.04, NNZs: 15, Bias: -0.752393, T: 75000, Avg. loss: 0.448021\n",
      "Total training time: 0.02 seconds.\n",
      "-- Epoch 3\n",
      "Norm: 1.26, NNZs: 15, Bias: -0.902742, T: 112500, Avg. loss: 0.415724\n",
      "Total training time: 0.02 seconds.\n",
      "-- Epoch 4\n",
      "Norm: 1.43, NNZs: 15, Bias: -1.003816, T: 150000, Avg. loss: 0.400895\n",
      "Total training time: 0.03 seconds.\n",
      "-- Epoch 5\n",
      "Norm: 1.55, NNZs: 15, Bias: -1.076296, T: 187500, Avg. loss: 0.392879\n",
      "Total training time: 0.04 seconds.\n",
      "-- Epoch 6\n",
      "Norm: 1.65, NNZs: 15, Bias: -1.131077, T: 225000, Avg. loss: 0.388094\n",
      "Total training time: 0.04 seconds.\n",
      "-- Epoch 7\n",
      "Norm: 1.73, NNZs: 15, Bias: -1.171791, T: 262500, Avg. loss: 0.385077\n",
      "Total training time: 0.05 seconds.\n",
      "-- Epoch 8\n",
      "Norm: 1.80, NNZs: 15, Bias: -1.203840, T: 300000, Avg. loss: 0.383074\n",
      "Total training time: 0.06 seconds.\n",
      "-- Epoch 9\n",
      "Norm: 1.86, NNZs: 15, Bias: -1.229563, T: 337500, Avg. loss: 0.381703\n",
      "Total training time: 0.06 seconds.\n",
      "-- Epoch 10\n",
      "Norm: 1.90, NNZs: 15, Bias: -1.251245, T: 375000, Avg. loss: 0.380763\n",
      "Total training time: 0.07 seconds.\n",
      "-- Epoch 11\n",
      "Norm: 1.94, NNZs: 15, Bias: -1.269044, T: 412500, Avg. loss: 0.380084\n",
      "Total training time: 0.08 seconds.\n",
      "-- Epoch 12\n",
      "Norm: 1.98, NNZs: 15, Bias: -1.282485, T: 450000, Avg. loss: 0.379607\n",
      "Total training time: 0.08 seconds.\n",
      "-- Epoch 13\n",
      "Norm: 2.01, NNZs: 15, Bias: -1.294386, T: 487500, Avg. loss: 0.379251\n",
      "Total training time: 0.09 seconds.\n",
      "-- Epoch 14\n",
      "Norm: 2.03, NNZs: 15, Bias: -1.305805, T: 525000, Avg. loss: 0.378992\n",
      "Total training time: 0.10 seconds.\n",
      "Convergence after 14 epochs took 0.10 seconds\n"
     ]
    },
    {
     "data": {
      "text/plain": [
       "SGDClassifier(alpha=0.0001, average=False, class_weight=None,\n",
       "              early_stopping=False, epsilon=0.1, eta0=0.0001,\n",
       "              fit_intercept=True, l1_ratio=0.15, learning_rate='constant',\n",
       "              loss='log', max_iter=1000, n_iter_no_change=5, n_jobs=None,\n",
       "              penalty='l2', power_t=0.5, random_state=15, shuffle=True,\n",
       "              tol=0.001, validation_fraction=0.1, verbose=2, warm_start=False)"
      ]
     },
     "execution_count": 187,
     "metadata": {
      "tags": []
     },
     "output_type": "execute_result"
    }
   ],
   "source": [
    "clf.fit(X=x_train, y=y_train) # fitting our model"
   ]
  },
  {
   "cell_type": "code",
   "execution_count": 188,
   "metadata": {
    "colab": {
     "base_uri": "https://localhost:8080/"
    },
    "id": "EAfkVI6GyaRO",
    "outputId": "4a204040-ce54-4671-a052-cf0914a591cf"
   },
   "outputs": [
    {
     "data": {
      "text/plain": [
       "(array([[-0.89007184,  0.63162363, -0.07594145,  0.63107107, -0.38434375,\n",
       "          0.93235243, -0.89573521, -0.07340522,  0.40591417,  0.4199991 ,\n",
       "          0.24722143,  0.05046199, -0.08877987,  0.54081652,  0.06643888]]),\n",
       " (1, 15),\n",
       " array([-1.30580538]))"
      ]
     },
     "execution_count": 188,
     "metadata": {
      "tags": []
     },
     "output_type": "execute_result"
    }
   ],
   "source": [
    "clf.coef_, clf.coef_.shape, clf.intercept_\n",
    "#clf.coef_ will return the weights\n",
    "#clf.coef_.shape will return the shape of weights\n",
    "#clf.intercept_ will return the intercept term"
   ]
  },
  {
   "cell_type": "markdown",
   "metadata": {
    "id": "_-CcGTKgsMrY"
   },
   "source": [
    "## Implementing Logistic Regression with L2 regularization Using SGD: without using sklearn"
   ]
  },
  {
   "cell_type": "markdown",
   "metadata": {
    "id": "zU2Y3-FQuJ3z"
   },
   "source": [
    "\n",
    "<br>\n",
    "* Alogorithm :\n",
    "\n",
    "* Initialize the weight_vector and intercept term to zeros </font>\n",
    "\n",
    "* Create the loss function  \n",
    "\n",
    " $log loss = -1*\\frac{1}{n}\\Sigma_{for each Yt,Y_{pred}}(Ytlog10(Y_{pred})+(1-Yt)log10(1-Y_{pred}))$\n",
    "- for each epoch:\n",
    "\n",
    "    - for each batch of data points in train: (batch size=1)\n",
    "\n",
    "        - calculate the gradient of loss function w.r.t each weight in weight vector \n",
    "\n",
    "        $dw^{(t)} = x_n(y_n − σ((w^{(t)})^{T} x_n+b^{t}))- \\frac{λ}{N}w^{(t)})$ <br>\n",
    "\n",
    "        - Calculate the gradient of the intercept\n",
    "\n",
    "           $ db^{(t)} = y_n- σ((w^{(t)})^{T} x_n+b^{t}))$\n",
    "\n",
    "        - Update weights and intercept\n",
    "        $w^{(t+1)}← w^{(t)}+α(dw^{(t)}) $<br>\n",
    "\n",
    "        $b^{(t+1)}←b^{(t)}+α(db^{(t)}) $\n",
    "    - calculate the log loss for train and test with the updated weights \n",
    "   \n",
    "    - append this loss in the list \n"
   ]
  },
  {
   "cell_type": "code",
   "execution_count": 189,
   "metadata": {
    "id": "tlt0puToblY5"
   },
   "outputs": [],
   "source": [
    "#Intializing the weights to zeros of d-dim.\n",
    "def initialize_weights(dim):\n",
    "    x1=np.arange(len(dim))\n",
    "    x2=x1.reshape((len(dim)))\n",
    "    w=np.zeros_like(x2)\n",
    "    bias=int(False)\n",
    "    return w,bias"
   ]
  },
  {
   "cell_type": "code",
   "execution_count": 190,
   "metadata": {
    "colab": {
     "base_uri": "https://localhost:8080/"
    },
    "id": "A7I6uWBRsKc4",
    "outputId": "4a699b9d-8387-4f5a-8100-9996f3f7bcc6"
   },
   "outputs": [
    {
     "name": "stdout",
     "output_type": "stream",
     "text": [
      "w = [0 0 0 0 0 0 0 0 0 0 0 0 0 0 0]\n",
      "b = 0\n"
     ]
    }
   ],
   "source": [
    "dim=x_train[0] \n",
    "w,b = initialize_weights(dim)\n",
    "print('w =',(w))\n",
    "print('b =',str(b))"
   ]
  },
  {
   "cell_type": "markdown",
   "metadata": {
    "id": "QN83oMWy_5rv"
   },
   "source": [
    "Compute sigmoid"
   ]
  },
  {
   "cell_type": "markdown",
   "metadata": {
    "id": "qPv4NJuxABgs"
   },
   "source": [
    "$sigmoid(z)= 1/(1+exp(-z))$"
   ]
  },
  {
   "cell_type": "code",
   "execution_count": 192,
   "metadata": {
    "id": "ThuPTkpAblY7"
   },
   "outputs": [],
   "source": [
    "#prepare custom sigmoid function using numpy.\n",
    "def sigmoid(z):\n",
    "  s=1/(1+np.exp(-z))\n",
    "  return s"
   ]
  },
  {
   "cell_type": "markdown",
   "metadata": {
    "id": "gS7JXbcrBOFF"
   },
   "source": [
    "Compute loss "
   ]
  },
  {
   "cell_type": "markdown",
   "metadata": {
    "id": "lfEiS22zBVYy"
   },
   "source": [
    "$log loss = -1*\\frac{1}{n}\\Sigma_{for each Yt,Y_{pred}}(Ytlog10(Y_{pred})+(1-Yt)log10(1-Y_{pred}))$"
   ]
  },
  {
   "cell_type": "code",
   "execution_count": 194,
   "metadata": {
    "id": "VaFDgsp3sKi6"
   },
   "outputs": [],
   "source": [
    "#Implementing the  custom logloss function\n",
    "import math\n",
    "def logloss(y_true,y_pred):\n",
    "  loss=0\n",
    "  for i in range(len(y_true)):\n",
    "    loss+=y_true[i]*math.log10(y_pred[i])+(1-y_true[i])*math.log10(1-y_pred[i])\n",
    "  loss= -1 * (1/len(y_true))*loss\n",
    "  return loss"
   ]
  },
  {
   "cell_type": "markdown",
   "metadata": {
    "id": "tQabIadLCBAB"
   },
   "source": [
    "Compute gradient w.r.to  'w'"
   ]
  },
  {
   "cell_type": "markdown",
   "metadata": {
    "id": "YTMxiYKaCQgd"
   },
   "source": [
    "$dw^{(t)} = x_n(y_n − σ((w^{(t)})^{T} x_n+b^{t}))- \\frac{λ}{N}w^{(t)}$ <br>"
   ]
  },
  {
   "cell_type": "code",
   "execution_count": 196,
   "metadata": {
    "id": "EI6vRVBoblY-"
   },
   "outputs": [],
   "source": [
    "#This function gradient_dw returns gradient w.r.t weights.\n",
    "import numpy as np\n",
    "def gradient_dw(x,y,w,b,alpha,N):\n",
    "  z=np.dot((w.T),x)+b\n",
    "  dw=x*(y-sigmoid(z))-(alpha*w)/N\n",
    "  return dw"
   ]
  },
  {
   "cell_type": "code",
   "execution_count": 197,
   "metadata": {
    "colab": {
     "base_uri": "https://localhost:8080/"
    },
    "id": "uVM0nPNZb9gh",
    "outputId": "98d5c4e3-92aa-4798-d552-7673990d73dc"
   },
   "outputs": [
    {
     "name": "stdout",
     "output_type": "stream",
     "text": [
      "<class 'numpy.ndarray'>\n",
      "<class 'numpy.ndarray'>\n",
      "<class 'numpy.ndarray'>\n",
      "<class 'int'>\n"
     ]
    }
   ],
   "source": [
    "print(type(x_train))\n",
    "print(type(y_train))\n",
    "print(type(w))\n",
    "print(type(b))"
   ]
  },
  {
   "cell_type": "markdown",
   "metadata": {
    "id": "LE8g84_GI62n"
   },
   "source": [
    "Compute gradient w.r.to 'b' "
   ]
  },
  {
   "cell_type": "code",
   "execution_count": 199,
   "metadata": {
    "id": "oMM06VWiSYC8"
   },
   "outputs": [],
   "source": [
    "#This function gradient_db returns gradient w.r.t intercept.\n",
    "def gradient_db(x,y,w,b):\n",
    "  z=np.dot((w.T),x)+b\n",
    "  db=y-sigmoid(z)\n",
    "  return db"
   ]
  },
  {
   "cell_type": "markdown",
   "metadata": {
    "id": "TCK0jY_EOvyU"
   },
   "source": [
    "Implementing logistic regression"
   ]
  },
  {
   "cell_type": "code",
   "execution_count": 201,
   "metadata": {
    "id": "JDG1urPZgcqh"
   },
   "outputs": [],
   "source": [
    "#This predict function computes 1/1+exp(wT*b)\n",
    "#here we are maintaing 2 boundary conditions of sigmoid(z)=0,1 as we can calculate log for 0,1 values.\n",
    "def predict(w,b,x):\n",
    "  n=len(x)\n",
    "  predict=[]\n",
    "  for i in range(n):\n",
    "    z=np.dot(w.transpose(),x[i])+b\n",
    "    if sigmoid(z)==0:\n",
    "      predict.append(sigmoid(0.000001))\n",
    "    elif sigmoid(z)==1:\n",
    "      predict.append(sigmoid(0.999999))\n",
    "    else:\n",
    "      predict.append(sigmoid(z))\n",
    "  return np.array(predict)"
   ]
  },
  {
   "cell_type": "code",
   "execution_count": 202,
   "metadata": {
    "id": "7Jkcl2w-Ug-E"
   },
   "outputs": [],
   "source": [
    "#This function \"train\" computes the sgd classifier and return the weights,intercept,trainlogloss and testlogloss\n",
    "def train(x_train,y_train,x_test,y_test,epochs,alpha,eta0):\n",
    "  N=len(x_train)\n",
    "  train_log_loss=[]\n",
    "  test_log_loss=[]\n",
    "  wi=[]\n",
    "  bi=[]\n",
    "  w,b=initialize_weights(x_train[0])\n",
    "  for i in range(1,epochs+1):\n",
    "    print(\"epoch : %s\"%i)\n",
    "    for ele in range(N):\n",
    "      gdw=gradient_dw(x_train[ele],y_train[ele],w,b,alpha,N)\n",
    "      gdb=gradient_db(x_train[ele],y_train[ele],w,b)\n",
    "      w=np.array(w)+(eta0*(np.array(gdw)))\n",
    "      b=b+(alpha*(gdb))\n",
    "    wpred1=predict(w,b,x_test)\n",
    "    test_log_loss.append(float(logloss(y_test,wpred1)))\n",
    "    wpred2=predict(w,b,x_train)\n",
    "    train_log_loss.append(float(logloss(y_train,wpred2)))\n",
    "  return w,b,train_log_loss,test_log_loss"
   ]
  },
  {
   "cell_type": "code",
   "execution_count": 203,
   "metadata": {
    "colab": {
     "base_uri": "https://localhost:8080/"
    },
    "id": "sUquz7LFEZ6E",
    "outputId": "68d2c345-37d5-448f-caa6-a405ceca4685"
   },
   "outputs": [
    {
     "name": "stdout",
     "output_type": "stream",
     "text": [
      "CPU times: user 3 µs, sys: 0 ns, total: 3 µs\n",
      "Wall time: 5.72 µs\n"
     ]
    }
   ],
   "source": [
    "#giving intial values for train function.\n",
    "%time\n",
    "alpha=0.0001\n",
    "eta0=0.0001\n",
    "N=len(x_train)\n",
    "epochs=15"
   ]
  },
  {
   "cell_type": "code",
   "execution_count": 204,
   "metadata": {
    "colab": {
     "base_uri": "https://localhost:8080/"
    },
    "id": "Tf7TXzp-AvKg",
    "outputId": "a59f1a49-7ae5-4629-dfe5-e607666dbdf2"
   },
   "outputs": [
    {
     "name": "stdout",
     "output_type": "stream",
     "text": [
      "CPU times: user 3 µs, sys: 0 ns, total: 3 µs\n",
      "Wall time: 6.44 µs\n",
      "epoch : 1\n",
      "epoch : 2\n",
      "epoch : 3\n",
      "epoch : 4\n",
      "epoch : 5\n",
      "epoch : 6\n",
      "epoch : 7\n",
      "epoch : 8\n",
      "epoch : 9\n",
      "epoch : 10\n",
      "epoch : 11\n",
      "epoch : 12\n",
      "epoch : 13\n",
      "epoch : 14\n",
      "epoch : 15\n"
     ]
    }
   ],
   "source": [
    "#computing the train function.\n",
    "%time\n",
    "weights,binter,train1loss,test1loss=train(x_train,y_train,x_test,y_test,epochs,alpha,eta0)"
   ]
  },
  {
   "cell_type": "code",
   "execution_count": 205,
   "metadata": {
    "colab": {
     "base_uri": "https://localhost:8080/"
    },
    "id": "1eBjAGd8jNwj",
    "outputId": "f3f21ada-8d0f-48f4-b10c-a4575b555a19"
   },
   "outputs": [
    {
     "data": {
      "text/plain": [
       "15"
      ]
     },
     "execution_count": 205,
     "metadata": {
      "tags": []
     },
     "output_type": "execute_result"
    }
   ],
   "source": [
    "len(train1loss)"
   ]
  },
  {
   "cell_type": "code",
   "execution_count": 206,
   "metadata": {
    "colab": {
     "base_uri": "https://localhost:8080/"
    },
    "id": "3X4ERHQdhvKB",
    "outputId": "87d52ac9-6579-4751-e816-dc7cd2119031"
   },
   "outputs": [
    {
     "name": "stdout",
     "output_type": "stream",
     "text": [
      "RESULTS WE GET AFTER SKLEARN IMPLEMENTATION -\n",
      "WEIGHTS :\n",
      "[[-0.89007184  0.63162363 -0.07594145  0.63107107 -0.38434375  0.93235243\n",
      "  -0.89573521 -0.07340522  0.40591417  0.4199991   0.24722143  0.05046199\n",
      "  -0.08877987  0.54081652  0.06643888]]\n",
      "INTERCEPT :\n",
      "[-1.30580538] \n",
      "\n",
      "RESULTS WE GET AFTER CUSTOM IMPLEMENTATION -\n",
      "WEIGHTS :\n",
      "[-0.9048262   0.64656179 -0.07822054  0.63777662 -0.3907577   0.9442469\n",
      " -0.90299306 -0.07160359  0.41570122  0.42360749  0.25179668  0.05395901\n",
      " -0.08823163  0.54374451  0.06700376]\n",
      "INTERCEPT :\n",
      "-1.3119223645129903\n"
     ]
    }
   ],
   "source": [
    "#Comparision of sklearn's implementation with our custom implementation.\n",
    "print(\"RESULTS WE GET AFTER SKLEARN IMPLEMENTATION -\")\n",
    "print(\"WEIGHTS :\")\n",
    "print(clf.coef_)\n",
    "print(\"INTERCEPT :\")\n",
    "print(clf.intercept_,\"\\n\")\n",
    "print(\"RESULTS WE GET AFTER CUSTOM IMPLEMENTATION -\")\n",
    "print(\"WEIGHTS :\")\n",
    "print(weights)\n",
    "print(\"INTERCEPT :\")\n",
    "print(binter)\n"
   ]
  },
  {
   "cell_type": "markdown",
   "metadata": {
    "id": "l3eF_VSPSH2z"
   },
   "source": [
    "Compare your implementation and SGDClassifier's the weights and intercept, make sure they are as close as possible i.e difference should be in terms of 10^-3"
   ]
  },
  {
   "cell_type": "code",
   "execution_count": 207,
   "metadata": {
    "colab": {
     "base_uri": "https://localhost:8080/"
    },
    "id": "nx8Rs9rfEZ1R",
    "outputId": "0ef5c4ad-4794-4f6d-fd92-c346a06f74cf"
   },
   "outputs": [
    {
     "data": {
      "text/plain": [
       "(array([[-0.01475437,  0.01493816, -0.00227909,  0.00670554, -0.00641395,\n",
       "          0.01189447, -0.00725785,  0.00180162,  0.00978705,  0.00360839,\n",
       "          0.00457525,  0.00349702,  0.00054823,  0.00292799,  0.00056488]]),\n",
       " array([-0.00611698]))"
      ]
     },
     "execution_count": 207,
     "metadata": {
      "tags": []
     },
     "output_type": "execute_result"
    }
   ],
   "source": [
    "# these are the difference in results we got after we implemented sgd and found the optimal weights and intercept\n",
    "weights-clf.coef_, binter-clf.intercept_"
   ]
  },
  {
   "cell_type": "code",
   "execution_count": 208,
   "metadata": {
    "colab": {
     "base_uri": "https://localhost:8080/",
     "height": 296
    },
    "id": "1O6GrRt7UeCJ",
    "outputId": "a7f30ef2-08d4-42f1-d227-33940975529a"
   },
   "outputs": [
    {
     "name": "stdout",
     "output_type": "stream",
     "text": [
      "Train vs Test log-loss\n"
     ]
    },
    {
     "data": {
      "image/png": "[encoded data removed]",
      "text/plain": [
       "<Figure size 432x288 with 1 Axes>"
      ]
     },
     "metadata": {
      "needs_background": "light",
      "tags": []
     },
     "output_type": "display_data"
    }
   ],
   "source": [
    "#ploting the train and test logloss.\n",
    "%matplotlib inline\n",
    "import matplotlib.pyplot as plt\n",
    "e=np.arange(1,epochs+1)\n",
    "print(\"Train vs Test log-loss\")\n",
    "plt.plot(e,train1loss,label=\"train-loss per epoch\")\n",
    "plt.plot(e,test1loss,label=\"test-loss per epoch\")\n",
    "plt.xlabel(\"epochs\")\n",
    "plt.ylabel(\"loss\")\n",
    "plt.legend()\n",
    "plt.grid()\n",
    "plt.show()"
   ]
  },
  {
   "cell_type": "code",
   "execution_count": 209,
   "metadata": {
    "colab": {
     "base_uri": "https://localhost:8080/"
    },
    "id": "FUN8puFoEZtU",
    "outputId": "29a09131-cda4-428e-8bc6-12f04816aedf"
   },
   "outputs": [
    {
     "name": "stdout",
     "output_type": "stream",
     "text": [
      "1.6978933333333335\n",
      "1.6986400000000001\n"
     ]
    }
   ],
   "source": [
    "def pred(w,b, X):\n",
    "    N = len(X)\n",
    "    predict = []\n",
    "    for i in range(N):\n",
    "        z=np.dot(w.transpose(),X[i])+b\n",
    "        if sigmoid(z) >= 0.5: # sigmoid(w,x,b) returns 1/(1+exp(-(dot(x,w)+b)))\n",
    "            predict.append(1)\n",
    "        else:\n",
    "            predict.append(0)\n",
    "    return np.array(predict)\n",
    "print(1-np.sum(y_train - pred(w,b,x_train))/len(x_train))\n",
    "print(1-np.sum(y_test  - pred(w,b,x_test))/len(x_test))"
   ]
  }
 ],
 "metadata": {
  "accelerator": "GPU",
  "colab": {
   "collapsed_sections": [],
   "name": "assigning.ipynb",
   "provenance": []
  },
  "kernelspec": {
   "display_name": "Python 3",
   "language": "python",
   "name": "python3"
  },
  "language_info": {
   "codemirror_mode": {
    "name": "ipython",
    "version": 3
   },
   "file_extension": ".py",
   "mimetype": "text/x-python",
   "name": "python",
   "nbconvert_exporter": "python",
   "pygments_lexer": "ipython3",
   "version": "3.7.6"
  }
 },
 "nbformat": 4,
 "nbformat_minor": 4
}
